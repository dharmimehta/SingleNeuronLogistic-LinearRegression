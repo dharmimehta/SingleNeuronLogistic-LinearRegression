{
 "cells": [
  {
   "cell_type": "code",
   "execution_count": 1,
   "metadata": {},
   "outputs": [],
   "source": [
    "\n",
    "\n",
    "import numpy as np\n",
    "import scipy\n",
    "from sklearn import metrics\n",
    "import matplotlib.pyplot as plt\n",
    "%matplotlib inline"
   ]
  },
  {
   "cell_type": "markdown",
   "metadata": {},
   "source": [
    "### PART 1\n",
    "\n",
    "* Logistic Regression for Binary Classification using the breast cancer dataset\n",
    "\n",
    "* We aren't going to preprocess data or split into train/test since the focus here is purely on the gradient descent algorithm\n",
    "\n"
   ]
  },
  {
   "cell_type": "code",
   "execution_count": 2,
   "metadata": {},
   "outputs": [
    {
     "name": "stdout",
     "output_type": "stream",
     "text": [
      "X:  (569, 30)\n",
      "y:  (569, 1)\n",
      "m:  569\n",
      "n:  30\n",
      "features:  ['mean radius' 'mean texture' 'mean perimeter' 'mean area'\n",
      " 'mean smoothness' 'mean compactness' 'mean concavity'\n",
      " 'mean concave points' 'mean symmetry' 'mean fractal dimension'\n",
      " 'radius error' 'texture error' 'perimeter error' 'area error'\n",
      " 'smoothness error' 'compactness error' 'concavity error'\n",
      " 'concave points error' 'symmetry error' 'fractal dimension error'\n",
      " 'worst radius' 'worst texture' 'worst perimeter' 'worst area'\n",
      " 'worst smoothness' 'worst compactness' 'worst concavity'\n",
      " 'worst concave points' 'worst symmetry' 'worst fractal dimension']\n"
     ]
    }
   ],
   "source": [
    "\n",
    "\n",
    "# read the breast cancer dataset from sklearn\n",
    "from sklearn.datasets import load_breast_cancer\n",
    "\n",
    "dataset = load_breast_cancer()\n",
    "\n",
    "# feature matrix X: mxn\n",
    "X = dataset.data\n",
    "print (\"X: \", X.shape)\n",
    "\n",
    "# target vector y: mx1\n",
    "y = dataset.target\n",
    "y = y.reshape(y.shape[0], 1)\n",
    "print (\"y: \", y.shape)\n",
    "\n",
    "# number of samples: m\n",
    "m = X.shape[0]\n",
    "print (\"m: \", m)\n",
    "\n",
    "# number of features: n\n",
    "n = X.shape[1]\n",
    "features = dataset.feature_names\n",
    "print (\"n: \",n)\n",
    "print (\"features: \", features)"
   ]
  },
  {
   "cell_type": "code",
   "execution_count": 3,
   "metadata": {},
   "outputs": [
    {
     "name": "stdout",
     "output_type": "stream",
     "text": [
      "0.9191564147627417\n"
     ]
    },
    {
     "data": {
      "text/plain": [
       "[<matplotlib.lines.Line2D at 0x19977ffd820>]"
      ]
     },
     "execution_count": 3,
     "metadata": {},
     "output_type": "execute_result"
    },
    {
     "data": {
      "image/png": "[encoded data removed]",
      "text/plain": [
       "<Figure size 432x288 with 1 Axes>"
      ]
     },
     "metadata": {
      "needs_background": "light"
     },
     "output_type": "display_data"
    }
   ],
   "source": [
    "\n",
    "\n",
    "# train the logistic regression model\n",
    "\n",
    "# initializae hyperparameters nepochs and alpha\n",
    "nepochs = 5000\n",
    "alpha = 2.5e-6\n",
    "\n",
    "# initialize model parameters w and b\n",
    "w = np.zeros((n,1))\n",
    "b = 0\n",
    "\n",
    "# this list will collect loss for each iteration\n",
    "costs = []\n",
    "\n",
    "for i in range(nepochs):\n",
    "    #Forward Pass\n",
    "    z = X@w + b\n",
    "    yhat = scipy.special.expit(z)\n",
    "    J = metrics.log_loss (y, yhat)\n",
    "    \n",
    "    #Backward propogation\n",
    "    dJ_dw = (1/m)*X.T@(yhat - y)\n",
    "    dJ_db = (1/m)*np.sum((yhat-y),axis=0,keepdims=True)\n",
    "    \n",
    "    #Gradient Descent\n",
    "    w = w - alpha*dJ_dw\n",
    "    b = b - alpha*dJ_db\n",
    "    \n",
    "    \n",
    "    costs.append(J)\n",
    "    \n",
    "    \n",
    "\n",
    "\n",
    "# use final parameters w and b to calcualte accuracy for training data X, y\n",
    "#  - do a single forward pass for X: calcualte z, yhat\n",
    "z = X@w + b\n",
    "yhat = scipy.special.expit(z)\n",
    "#  - set yhat to round(yhat) (that is, thresholding binary classification prediction at 0.5)\n",
    "yhat = np.round(yhat)\n",
    "\n",
    "#  - calcualte metrics.accuracy_score(y, yhat) and print it\n",
    "### (1.6) YOUR CODE HERE\n",
    "#J = metrics.log_loss (y, yhat)\n",
    "#print(J)\n",
    "accuracy = metrics.accuracy_score(y, yhat)\n",
    "print(accuracy)\n",
    "\n",
    "# use plt.plot(costs)  to plot  costs against iterations and show the plot\n",
    "### (1.7) YOUR CODE HERE\n",
    "plt.plot(costs)\n"
   ]
  },
  {
   "cell_type": "code",
   "execution_count": 4,
   "metadata": {},
   "outputs": [
    {
     "name": "stdout",
     "output_type": "stream",
     "text": [
      "0.92\n"
     ]
    }
   ],
   "source": [
    "\n",
    "\n",
    "# compare results from your implementation to that of SGDClassifier\n",
    "# your accuracy score above should match (or be very close to) what you get from here\n",
    "\n",
    "nepochs = 5000\n",
    "alpha = 2.5e-6\n",
    "y = y.reshape(y.shape[0],) # to avoid warning\n",
    "\n",
    "from sklearn.linear_model import SGDClassifier\n",
    "clf = SGDClassifier(loss='log', # loss function for logistic regression\n",
    "                    penalty=None, alpha=0, # no regularization\n",
    "                    max_iter=nepochs, tol=None, # stop based only on nepochs\n",
    "                    shuffle=False, random_state=0, # don't shuffle, use random state to replicate results\n",
    "                    learning_rate='constant', eta0=alpha) # constant learning rate of alpha\n",
    "clf.fit(X,y)\n",
    "print (round(clf.score(X,y),2))"
   ]
  },
  {
   "cell_type": "markdown",
   "metadata": {},
   "source": [
    "### Part 2\n",
    "\n",
    "* Linear Regression using the diabetes dataset \n",
    "\n",
    "* We aren't going to preprocess data or split  into train/test since the focus here is purely on the gradient descent algorithm\n",
    "\n"
   ]
  },
  {
   "cell_type": "code",
   "execution_count": 5,
   "metadata": {},
   "outputs": [
    {
     "name": "stdout",
     "output_type": "stream",
     "text": [
      "X:  (442, 10)\n",
      "y:  (442, 1)\n",
      "m:  442\n",
      "n:  10\n",
      "features:  ['age', 'sex', 'bmi', 'bp', 's1', 's2', 's3', 's4', 's5', 's6']\n"
     ]
    }
   ],
   "source": [
    "\n",
    "\n",
    "# read the diabetes dataset from sklearn\n",
    "from sklearn.datasets import load_diabetes\n",
    "\n",
    "dataset = load_diabetes()\n",
    "\n",
    "# feature matrix X: mxn\n",
    "X = dataset.data\n",
    "print (\"X: \", X.shape)\n",
    "\n",
    "# target vector y: mx1\n",
    "y = dataset.target\n",
    "y = y.reshape(y.shape[0], 1)\n",
    "print (\"y: \", y.shape)\n",
    "\n",
    "# number of samples: m\n",
    "m = X.shape[0]\n",
    "print (\"m: \", m)\n",
    "\n",
    "# number of features: n\n",
    "n = X.shape[1]\n",
    "features = dataset.feature_names\n",
    "print (\"n: \",n)\n",
    "print (\"features: \", features)"
   ]
  },
  {
   "cell_type": "code",
   "execution_count": 6,
   "metadata": {
    "scrolled": true
   },
   "outputs": [
    {
     "name": "stdout",
     "output_type": "stream",
     "text": [
      "2880.488150188168\n",
      "0.514242147990263\n"
     ]
    },
    {
     "data": {
      "text/plain": [
       "[<matplotlib.lines.Line2D at 0x199782957f0>]"
      ]
     },
     "execution_count": 6,
     "metadata": {},
     "output_type": "execute_result"
    },
    {
     "data": {
      "image/png": "[encoded data removed]",
      "text/plain": [
       "<Figure size 432x288 with 1 Axes>"
      ]
     },
     "metadata": {
      "needs_background": "light"
     },
     "output_type": "display_data"
    }
   ],
   "source": [
    "\n",
    "# train the linear regression model\n",
    "\n",
    "# initialize hyperparameters nepochs and alpha\n",
    "nepochs = 5000\n",
    "alpha = 0.5\n",
    "\n",
    "# initialize model paramters w and b\n",
    "w = np.zeros((n,1))\n",
    "b = 0\n",
    "\n",
    "# this list will collect loss for each iteration\n",
    "costs = []\n",
    "\n",
    "# repeat for nepochs\n",
    "### (2.1) YOUR CODE HERE\n",
    "for i in range(nepochs):\n",
    "    #Forward Pass\n",
    "    z = X@w + b\n",
    "    yhat = z\n",
    "    J = metrics.mean_squared_error (y, yhat)\n",
    "    \n",
    "    #Backward pass\n",
    "    dJ_dw = (1/m)*X.T@(yhat - y)\n",
    "    dJ_db = (1/m)*np.sum((yhat-y),axis=0,keepdims=True)\n",
    "    \n",
    "    #Gradient descent\n",
    "    w = w - alpha*dJ_dw\n",
    "    b = b - alpha*dJ_db\n",
    "    \n",
    "    costs.append(J)\n",
    "    \n",
    "\n",
    "# use final parameters w and b to calcualte mse and r2 for training data X, y\n",
    "#  - do a single forward pass for X: calcualte z, yhat\n",
    "z = X@w + b\n",
    "yhat = z\n",
    "#  - calculate metrics.mean_squared_error(y, yhat) and print it\n",
    "Squared_Error = metrics.mean_squared_error (y, yhat)\n",
    "print(Squared_Error)\n",
    "#  - calculate metrics.r2_score(y, yhat) and print it\n",
    "R2 = metrics.r2_score(y, yhat)\n",
    "print(R2)\n",
    "\n",
    "\n",
    "\n",
    "# use plt.plot(costs) to plot costs against iterations and show the plot\n",
    "### (2.7) YOUR CODE HERE\n",
    "plt.plot(costs)\n"
   ]
  },
  {
   "cell_type": "code",
   "execution_count": 7,
   "metadata": {},
   "outputs": [
    {
     "name": "stdout",
     "output_type": "stream",
     "text": [
      "2922.88\n",
      "0.51\n"
     ]
    }
   ],
   "source": [
    "\n",
    "\n",
    "# compare results from our implementation to that of SGDRegressor\n",
    "# your mse and r2 score above should match (or be very close to) what you get from here\n",
    "\n",
    "nepochs = 5000\n",
    "alpha = 0.5\n",
    "y = y.reshape(y.shape[0],) # to avoid warning\n",
    "\n",
    "from sklearn.linear_model import SGDRegressor\n",
    "clf = SGDRegressor(loss='squared_error', \n",
    "                    penalty=None, alpha=0,\n",
    "                    max_iter=nepochs, tol=None, \n",
    "                    shuffle=False, random_state=0,\n",
    "                    learning_rate='constant', eta0=alpha)\n",
    "clf.fit(X,y)\n",
    "yhat = clf.predict(X)\n",
    "print (round(metrics.mean_squared_error(y, yhat),2))\n",
    "print (round(clf.score(X,y),2))"
   ]
  },
  {
   "cell_type": "code",
   "execution_count": null,
   "metadata": {},
   "outputs": [],
   "source": []
  }
 ],
 "metadata": {
  "kernelspec": {
   "display_name": "Python 3 (ipykernel)",
   "language": "python",
   "name": "python3"
  },
  "language_info": {
   "codemirror_mode": {
    "name": "ipython",
    "version": 3
   },
   "file_extension": ".py",
   "mimetype": "text/x-python",
   "name": "python",
   "nbconvert_exporter": "python",
   "pygments_lexer": "ipython3",
   "version": "3.9.12"
  }
 },
 "nbformat": 4,
 "nbformat_minor": 2
}
